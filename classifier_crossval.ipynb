{
 "cells": [
  {
   "cell_type": "markdown",
   "source": [
    "## TuriCreate Busyness Classifier"
   ],
   "metadata": {
    "collapsed": false,
    "pycharm": {
     "name": "#%% md\n"
    }
   }
  },
  {
   "cell_type": "code",
   "execution_count": 1,
   "metadata": {
    "collapsed": true,
    "pycharm": {
     "name": "#%%\n"
    }
   },
   "outputs": [],
   "source": [
    "from model_metrics import *\n",
    "from preprocessing import *\n",
    "from crossvalidation import *\n",
    "from helpers import *\n",
    "from matplotlib_styles import *"
   ]
  },
  {
   "cell_type": "code",
   "execution_count": 2,
   "outputs": [],
   "source": [
    "import turicreate as tc\n",
    "import shutil"
   ],
   "metadata": {
    "collapsed": false,
    "pycharm": {
     "name": "#%%\n"
    }
   }
  },
  {
   "cell_type": "code",
   "execution_count": 3,
   "outputs": [
    {
     "name": "stdout",
     "output_type": "stream",
     "text": [
      "NOTEBOOK START TIME: 12:27:17\n"
     ]
    }
   ],
   "source": [
    "start_time = datetime.now()\n",
    "print(f\"NOTEBOOK START TIME: {start_time.strftime('%H:%M:%S')}\")"
   ],
   "metadata": {
    "collapsed": false,
    "pycharm": {
     "name": "#%%\n"
    }
   }
  },
  {
   "cell_type": "markdown",
   "source": [
    "---"
   ],
   "metadata": {
    "collapsed": false,
    "pycharm": {
     "name": "#%% md\n"
    }
   }
  },
  {
   "cell_type": "code",
   "execution_count": 4,
   "outputs": [],
   "source": [
    "BASE_MODEL = \"resnet-50\"\n",
    "augmentation = False\n",
    "preprocessing = True\n",
    "final = False\n",
    "\n",
    "CONFIG_STR = BASE_MODEL + \"_P\" + str(preprocessing) + \"_A\" + str(augmentation) + \"_\"\n",
    "\n",
    "tc.data_structures.serialization.enable_sframe_serialization(\"./sframe_serialization/\")"
   ],
   "metadata": {
    "collapsed": false,
    "pycharm": {
     "name": "#%%\n"
    }
   }
  },
  {
   "cell_type": "code",
   "execution_count": 5,
   "outputs": [
    {
     "name": "stdout",
     "output_type": "stream",
     "text": [
      "CONFIG\n",
      "----------------------------------------\n",
      "model:                 resnet-50\n",
      "augmentation:          False\n",
      "preprocessing:         True\n",
      "final:                 False\n",
      "----------------------------------------\n",
      "\n"
     ]
    }
   ],
   "source": [
    "print(f\"CONFIG\")\n",
    "print(\"----------------------------------------\")\n",
    "print(f\"model:                 {BASE_MODEL}\"\n",
    "      f\"\\naugmentation:          {augmentation}\"\n",
    "      f\"\\npreprocessing:         {preprocessing}\"\n",
    "      f\"\\nfinal:                 {final}\")\n",
    "print(\"----------------------------------------\\n\")\n"
   ],
   "metadata": {
    "collapsed": false,
    "pycharm": {
     "name": "#%%\n"
    }
   }
  },
  {
   "cell_type": "markdown",
   "source": [
    "### Data Preparation and Preprocessing"
   ],
   "metadata": {
    "collapsed": false,
    "pycharm": {
     "name": "#%% md\n"
    }
   }
  },
  {
   "cell_type": "code",
   "execution_count": 6,
   "outputs": [],
   "source": [
    "DIR_RAW = \"datasets/crossval/raw/\"\n",
    "DIR_AUG = \"datasets/crossval/augmented/\"\n",
    "DIR_PRE = \"datasets/crossval/preprocessed/\""
   ],
   "metadata": {
    "collapsed": false,
    "pycharm": {
     "name": "#%%\n"
    }
   }
  },
  {
   "cell_type": "code",
   "execution_count": 7,
   "outputs": [],
   "source": [
    "shutil.rmtree(DIR_AUG)\n",
    "shutil.rmtree(DIR_PRE)"
   ],
   "metadata": {
    "collapsed": false,
    "pycharm": {
     "name": "#%%\n"
    }
   }
  },
  {
   "cell_type": "code",
   "execution_count": 8,
   "outputs": [
    {
     "name": "stdout",
     "output_type": "stream",
     "text": [
      "DONE PREPROCESSING\n"
     ]
    }
   ],
   "source": [
    "if augmentation:\n",
    "    os.makedirs(DIR_AUG + \"busy\")\n",
    "    os.makedirs(DIR_AUG + \"not_busy\")\n",
    "\n",
    "    apply_augmentation(DIR_RAW + \"busy/\", DIR_AUG + \"busy/\")\n",
    "    apply_augmentation(DIR_RAW + \"not_busy/\", DIR_AUG + \"not_busy/\")\n",
    "    print(\"DONE AUGMENTATION\")\n",
    "else:\n",
    "    shutil.copytree(DIR_RAW + \"busy/\", DIR_AUG + \"busy/\")\n",
    "    shutil.copytree(DIR_RAW + \"not_busy/\", DIR_AUG + \"not_busy/\")\n",
    "\n",
    "if preprocessing:\n",
    "    os.makedirs(DIR_PRE + \"busy\")\n",
    "    os.makedirs(DIR_PRE + \"not_busy\")\n",
    "\n",
    "    apply_preprocessing(DIR_AUG + \"busy/\", DIR_PRE + \"busy/\")\n",
    "    apply_preprocessing(DIR_AUG + \"not_busy/\", DIR_PRE + \"not_busy/\")\n",
    "    print(\"DONE PREPROCESSING\")\n",
    "else:\n",
    "    shutil.copytree(DIR_AUG + \"busy/\", DIR_PRE + \"busy/\")\n",
    "    shutil.copytree(DIR_AUG + \"not_busy/\", DIR_PRE + \"not_busy/\")\n"
   ],
   "metadata": {
    "collapsed": false,
    "pycharm": {
     "name": "#%%\n"
    }
   }
  },
  {
   "cell_type": "code",
   "execution_count": 9,
   "outputs": [],
   "source": [
    "# DATA SETUP\n",
    "raw_data = tc.image_analysis.load_images(DIR_RAW, with_path=True)\n",
    "raw_data[\"label\"] = raw_data[\"path\"].apply(lambda path: \"busy\" if \"/busy\" in path else \"not_busy\")\n",
    "raw_data.save(\"./sframes/crossavl_raw.sframe\")\n",
    "# raw_data.show()"
   ],
   "metadata": {
    "collapsed": false,
    "pycharm": {
     "name": "#%%\n"
    }
   }
  },
  {
   "cell_type": "code",
   "execution_count": 10,
   "outputs": [],
   "source": [
    "preprocessed_data = tc.image_analysis.load_images(DIR_PRE, with_path=True)\n",
    "preprocessed_data[\"label\"] = preprocessed_data[\"path\"].apply(lambda path: \"busy\" if \"/busy\" in path else \"not_busy\")\n",
    "preprocessed_data.save(\"./sframes/crossval_preprocessed.sframe\")\n",
    "# preprocessed_data.show()"
   ],
   "metadata": {
    "collapsed": false,
    "pycharm": {
     "name": "#%%\n"
    }
   }
  },
  {
   "cell_type": "code",
   "execution_count": 11,
   "outputs": [],
   "source": [
    "# images = data[\"image\"]\n",
    "# deep_features = tc.image_analysis.get_deep_features(data[\"image\"], model_name)"
   ],
   "metadata": {
    "collapsed": false,
    "pycharm": {
     "name": "#%%\n"
    }
   }
  },
  {
   "cell_type": "markdown",
   "source": [
    "### K-Fold Cross Validation"
   ],
   "metadata": {
    "collapsed": false,
    "pycharm": {
     "name": "#%% md\n"
    }
   }
  },
  {
   "cell_type": "code",
   "execution_count": 12,
   "outputs": [],
   "source": [
    "cv10_metrics = load_pickle(CONFIG_STR + \"cv10_metrics\")\n",
    "if cv10_metrics is None:\n",
    "    cv10 = crossval_classic(preprocessed_data, 10, BASE_MODEL)\n",
    "    cv10_metrics = get_model_metrics(cv10)\n",
    "    dump_pickle(cv10_metrics, CONFIG_STR + \"cv10_metrics\")"
   ],
   "metadata": {
    "collapsed": false,
    "pycharm": {
     "name": "#%%\n"
    }
   }
  },
  {
   "cell_type": "code",
   "execution_count": 13,
   "outputs": [
    {
     "name": "stdout",
     "output_type": "stream",
     "text": [
      "1\n",
      "training locations: []   sample size: 900\n",
      "testing locations: []   sample size: 100\n",
      "accuracy: 0.93, precision: 0.92, recall: 0.94, f1: 0.93, log loss: 0.17\n",
      "+--------------+-----------------+-------+\n",
      "| target_label | predicted_label | count |\n",
      "+--------------+-----------------+-------+\n",
      "|     busy     |       busy      |   46  |\n",
      "|   not_busy   |       busy      |   3   |\n",
      "|   not_busy   |     not_busy    |   47  |\n",
      "|     busy     |     not_busy    |   4   |\n",
      "+--------------+-----------------+-------+\n",
      "[4 rows x 3 columns]\n",
      "\n",
      "\n",
      "2\n",
      "training locations: []   sample size: 900\n",
      "testing locations: []   sample size: 100\n",
      "accuracy: 0.95, precision: 0.94, recall: 0.96, f1: 0.95, log loss: 0.14\n",
      "+--------------+-----------------+-------+\n",
      "| target_label | predicted_label | count |\n",
      "+--------------+-----------------+-------+\n",
      "|     busy     |       busy      |   46  |\n",
      "|   not_busy   |       busy      |   2   |\n",
      "|   not_busy   |     not_busy    |   49  |\n",
      "|     busy     |     not_busy    |   3   |\n",
      "+--------------+-----------------+-------+\n",
      "[4 rows x 3 columns]\n",
      "\n",
      "\n",
      "3\n",
      "training locations: []   sample size: 900\n",
      "testing locations: []   sample size: 100\n",
      "accuracy: 0.94, precision: 0.92, recall: 0.96, f1: 0.94, log loss: 0.13\n",
      "+--------------+-----------------+-------+\n",
      "| target_label | predicted_label | count |\n",
      "+--------------+-----------------+-------+\n",
      "|   not_busy   |     not_busy    |   49  |\n",
      "|   not_busy   |       busy      |   2   |\n",
      "|     busy     |       busy      |   45  |\n",
      "|     busy     |     not_busy    |   4   |\n",
      "+--------------+-----------------+-------+\n",
      "[4 rows x 3 columns]\n",
      "\n",
      "\n",
      "4\n",
      "training locations: []   sample size: 900\n",
      "testing locations: []   sample size: 100\n",
      "accuracy: 0.99, precision: 0.98, recall: 1.0, f1: 0.99, log loss: 0.05\n",
      "+--------------+-----------------+-------+\n",
      "| target_label | predicted_label | count |\n",
      "+--------------+-----------------+-------+\n",
      "|     busy     |       busy      |   47  |\n",
      "|     busy     |     not_busy    |   1   |\n",
      "|   not_busy   |     not_busy    |   52  |\n",
      "+--------------+-----------------+-------+\n",
      "[3 rows x 3 columns]\n",
      "\n",
      "\n",
      "5\n",
      "training locations: []   sample size: 900\n",
      "testing locations: []   sample size: 100\n",
      "accuracy: 0.92, precision: 0.86, recall: 0.95, f1: 0.9, log loss: 0.14\n",
      "+--------------+-----------------+-------+\n",
      "| target_label | predicted_label | count |\n",
      "+--------------+-----------------+-------+\n",
      "|     busy     |       busy      |   54  |\n",
      "|   not_busy   |       busy      |   2   |\n",
      "|   not_busy   |     not_busy    |   38  |\n",
      "|     busy     |     not_busy    |   6   |\n",
      "+--------------+-----------------+-------+\n",
      "[4 rows x 3 columns]\n",
      "\n",
      "\n",
      "6\n",
      "training locations: []   sample size: 900\n",
      "testing locations: []   sample size: 100\n",
      "accuracy: 0.96, precision: 0.96, recall: 0.96, f1: 0.96, log loss: 0.19\n",
      "+--------------+-----------------+-------+\n",
      "| target_label | predicted_label | count |\n",
      "+--------------+-----------------+-------+\n",
      "|     busy     |     not_busy    |   2   |\n",
      "|     busy     |       busy      |   42  |\n",
      "|   not_busy   |     not_busy    |   54  |\n",
      "|   not_busy   |       busy      |   2   |\n",
      "+--------------+-----------------+-------+\n",
      "[4 rows x 3 columns]\n",
      "\n",
      "\n",
      "7\n",
      "training locations: []   sample size: 900\n",
      "testing locations: []   sample size: 100\n",
      "accuracy: 0.95, precision: 0.94, recall: 0.96, f1: 0.95, log loss: 0.09\n",
      "+--------------+-----------------+-------+\n",
      "| target_label | predicted_label | count |\n",
      "+--------------+-----------------+-------+\n",
      "|     busy     |     not_busy    |   3   |\n",
      "|     busy     |       busy      |   48  |\n",
      "|   not_busy   |       busy      |   2   |\n",
      "|   not_busy   |     not_busy    |   47  |\n",
      "+--------------+-----------------+-------+\n",
      "[4 rows x 3 columns]\n",
      "\n",
      "\n",
      "8\n",
      "training locations: []   sample size: 900\n",
      "testing locations: []   sample size: 100\n",
      "accuracy: 0.96, precision: 0.98, recall: 0.94, f1: 0.96, log loss: 0.16\n",
      "+--------------+-----------------+-------+\n",
      "| target_label | predicted_label | count |\n",
      "+--------------+-----------------+-------+\n",
      "|   not_busy   |       busy      |   3   |\n",
      "|   not_busy   |     not_busy    |   45  |\n",
      "|     busy     |       busy      |   51  |\n",
      "|     busy     |     not_busy    |   1   |\n",
      "+--------------+-----------------+-------+\n",
      "[4 rows x 3 columns]\n",
      "\n",
      "\n",
      "9\n",
      "training locations: []   sample size: 900\n",
      "testing locations: []   sample size: 100\n",
      "accuracy: 0.96, precision: 0.98, recall: 0.94, f1: 0.96, log loss: 0.21\n",
      "+--------------+-----------------+-------+\n",
      "| target_label | predicted_label | count |\n",
      "+--------------+-----------------+-------+\n",
      "|   not_busy   |       busy      |   3   |\n",
      "|   not_busy   |     not_busy    |   46  |\n",
      "|     busy     |       busy      |   50  |\n",
      "|     busy     |     not_busy    |   1   |\n",
      "+--------------+-----------------+-------+\n",
      "[4 rows x 3 columns]\n",
      "\n",
      "\n",
      "10\n",
      "training locations: []   sample size: 900\n",
      "testing locations: []   sample size: 100\n",
      "accuracy: 0.98, precision: 0.98, recall: 0.98, f1: 0.98, log loss: 0.06\n",
      "+--------------+-----------------+-------+\n",
      "| target_label | predicted_label | count |\n",
      "+--------------+-----------------+-------+\n",
      "|     busy     |       busy      |   45  |\n",
      "|     busy     |     not_busy    |   1   |\n",
      "|   not_busy   |     not_busy    |   53  |\n",
      "|   not_busy   |       busy      |   1   |\n",
      "+--------------+-----------------+-------+\n",
      "[4 rows x 3 columns]\n",
      "\n",
      "\n",
      "----------------------------------------\n",
      "\n",
      "average accuracy: 0.954\n",
      "average f1: 0.9530737454638446\n",
      "----------------------------------------\n",
      "\n"
     ]
    },
    {
     "data": {
      "text/plain": "<Figure size 432x288 with 1 Axes>",
      "image/png": "[encoded data removed]"
     },
     "metadata": {},
     "output_type": "display_data"
    },
    {
     "data": {
      "text/plain": "<Figure size 432x288 with 1 Axes>",
      "image/png": "[encoded data removed]"
     },
     "metadata": {},
     "output_type": "display_data"
    }
   ],
   "source": [
    "print_metrics(cv10_metrics)\n",
    "\n",
    "accuracies = [metrics.accuracy for metrics in cv10_metrics]\n",
    "f1s = [metrics.f1 for metrics in cv10_metrics]\n",
    "\n",
    "print(f\"average accuracy: {sum(accuracies) / len(cv10_metrics)}\")\n",
    "print(f\"average f1: {sum(f1s) / len(cv10_metrics)}\")\n",
    "print(\"----------------------------------------\\n\")\n",
    "\n",
    "plot_line(range(1, len(accuracies) + 1), accuracies, \"iteration\", \"accuracy\", ymin=0.8, title=\"10-fold CV Accuracies\")\n",
    "plot_line(range(1, len(f1s) + 1), f1s, \"iteration\", \"f1 score\", ymin=0.8, title=\"10-fold CV F1 Scores\")"
   ],
   "metadata": {
    "collapsed": false,
    "pycharm": {
     "name": "#%%\n"
    }
   }
  },
  {
   "cell_type": "code",
   "execution_count": 14,
   "outputs": [],
   "source": [
    "# for i in range(len(cv_classic)):\n",
    "#     plot_roc(cv_classic[i].metrics.roc_curve, title=f\"ROC 10-fold CV Fold {i + 1}\")"
   ],
   "metadata": {
    "collapsed": false,
    "pycharm": {
     "name": "#%%\n"
    }
   }
  },
  {
   "cell_type": "code",
   "execution_count": 15,
   "outputs": [],
   "source": [
    "# avg_accs = [sum(accuracies) / len(cv10_metrics)]\n",
    "# avg_f1s = [sum(f1s) / len(cv10_metrics)]\n",
    "#\n",
    "# for k in [5, 4, 2]:\n",
    "#     cvk_metrics = load_pickle(CONFIG_STR + f\"cv{k}_metrics\")\n",
    "#     if cvk_metrics is None:\n",
    "#         cvk = crossval_classic(preprocessed_data, k, BASE_MODEL)\n",
    "#         cvk_metrics = get_model_metrics(cvk)\n",
    "#         dump_pickle(cvk_metrics, CONFIG_STR + f\"cv{k}_metrics\")\n",
    "#     avg_acc = sum([metrics.accuracy for metrics in cvk_metrics]) / len(cvk_metrics)\n",
    "#     avg_f1 = sum([metrics.f1 for metrics in cvk_metrics]) / len(cvk_metrics)\n",
    "#     avg_accs.insert(0, avg_acc)\n",
    "#     avg_f1s.insert(0, avg_f1)"
   ],
   "metadata": {
    "collapsed": false,
    "pycharm": {
     "name": "#%%\n"
    }
   }
  },
  {
   "cell_type": "code",
   "execution_count": 16,
   "outputs": [],
   "source": [
    "# plot_line([2, 4, 5, 10], avg_accs, \"k\", \"average accuracy\", ymin=0.6, title=\"k-fold CV Avg \"\n",
    "#                                                                                         \"Accuracies\")\n",
    "# plot_line([2, 4, 5, 10], avg_f1s, \"k\", \"average f1 score\", ymin=0.6, title=\"k-fold CV Avg F1 \"\n",
    "#                                                                                        \"Scores\")"
   ],
   "metadata": {
    "collapsed": false,
    "pycharm": {
     "name": "#%%\n"
    }
   }
  },
  {
   "cell_type": "markdown",
   "source": [
    "### Location-based Cross Validation"
   ],
   "metadata": {
    "collapsed": false
   }
  },
  {
   "cell_type": "code",
   "execution_count": 17,
   "outputs": [],
   "source": [
    "locations = [\"OxfordCircus\", \"DaviesSt\", \"VereSt\", \"RegentSt\", \"StGiles\"]"
   ],
   "metadata": {
    "collapsed": false,
    "pycharm": {
     "name": "#%%\n"
    }
   }
  },
  {
   "cell_type": "code",
   "execution_count": 18,
   "outputs": [],
   "source": [
    "cvlocs_metrics = load_pickle(CONFIG_STR + \"cvlocs_metrics\")\n",
    "if cvlocs_metrics is None:\n",
    "    cvloc1 = crossval_location(preprocessed_data, locations, 1, 200, 200, BASE_MODEL)\n",
    "    cvloc2 = crossval_location(preprocessed_data, locations, 2, 400, 200, BASE_MODEL)\n",
    "    cvloc3 = crossval_location(preprocessed_data, locations, 3, 600, 200, BASE_MODEL)\n",
    "    cvloc4 = crossval_location(preprocessed_data, locations, 4, 800, 200, BASE_MODEL)\n",
    "\n",
    "    cvlocs = [cvloc1, cvloc2, cvloc3, cvloc4]\n",
    "\n",
    "    cvlocs_metrics = [get_model_metrics(cv) for cv in cvlocs]\n",
    "\n",
    "    dump_pickle(cvlocs_metrics, CONFIG_STR + \"cvlocs_metrics\")"
   ],
   "metadata": {
    "collapsed": false,
    "pycharm": {
     "name": "#%%\n"
    }
   }
  },
  {
   "cell_type": "code",
   "execution_count": 19,
   "outputs": [
    {
     "name": "stdout",
     "output_type": "stream",
     "text": [
      "----------------------------------------\n",
      "200 TRAINING LOCATIONS\n",
      "\n",
      "1\n",
      "training locations: ['OxfordCircus']   sample size: 200\n",
      "testing locations: ['VereSt', 'DaviesSt', 'StGiles', 'RegentSt']   sample size: 200\n",
      "accuracy: 0.73, precision: 0.87, recall: 0.58, f1: 0.7, log loss: 0.8\n",
      "+--------------+-----------------+-------+\n",
      "| target_label | predicted_label | count |\n",
      "+--------------+-----------------+-------+\n",
      "|     busy     |     not_busy    |   9   |\n",
      "|     busy     |       busy      |   86  |\n",
      "|   not_busy   |       busy      |   44  |\n",
      "|   not_busy   |     not_busy    |   61  |\n",
      "+--------------+-----------------+-------+\n",
      "[4 rows x 3 columns]\n",
      "\n",
      "\n",
      "2\n",
      "training locations: ['DaviesSt']   sample size: 200\n",
      "testing locations: ['VereSt', 'StGiles', 'RegentSt', 'OxfordCircus']   sample size: 200\n",
      "accuracy: 0.68, precision: 0.71, recall: 0.64, f1: 0.67, log loss: 3.15\n",
      "+--------------+-----------------+-------+\n",
      "| target_label | predicted_label | count |\n",
      "+--------------+-----------------+-------+\n",
      "|     busy     |     not_busy    |   28  |\n",
      "|   not_busy   |     not_busy    |   67  |\n",
      "|   not_busy   |       busy      |   37  |\n",
      "|     busy     |       busy      |   68  |\n",
      "+--------------+-----------------+-------+\n",
      "[4 rows x 3 columns]\n",
      "\n",
      "\n",
      "3\n",
      "training locations: ['VereSt']   sample size: 200\n",
      "testing locations: ['RegentSt', 'DaviesSt', 'StGiles', 'OxfordCircus']   sample size: 200\n",
      "accuracy: 0.77, precision: 0.93, recall: 0.54, f1: 0.68, log loss: 0.78\n",
      "+--------------+-----------------+-------+\n",
      "| target_label | predicted_label | count |\n",
      "+--------------+-----------------+-------+\n",
      "|     busy     |     not_busy    |   4   |\n",
      "|   not_busy   |     not_busy    |   51  |\n",
      "|   not_busy   |       busy      |   43  |\n",
      "|     busy     |       busy      |  102  |\n",
      "+--------------+-----------------+-------+\n",
      "[4 rows x 3 columns]\n",
      "\n",
      "\n",
      "4\n",
      "training locations: ['RegentSt']   sample size: 200\n",
      "testing locations: ['VereSt', 'DaviesSt', 'StGiles', 'OxfordCircus']   sample size: 200\n",
      "accuracy: 0.81, precision: 0.78, recall: 0.79, f1: 0.78, log loss: 0.83\n",
      "+--------------+-----------------+-------+\n",
      "| target_label | predicted_label | count |\n",
      "+--------------+-----------------+-------+\n",
      "|   not_busy   |     not_busy    |   71  |\n",
      "|   not_busy   |       busy      |   19  |\n",
      "|     busy     |     not_busy    |   20  |\n",
      "|     busy     |       busy      |   90  |\n",
      "+--------------+-----------------+-------+\n",
      "[4 rows x 3 columns]\n",
      "\n",
      "\n",
      "5\n",
      "training locations: ['StGiles']   sample size: 200\n",
      "testing locations: ['VereSt', 'DaviesSt', 'RegentSt', 'OxfordCircus']   sample size: 200\n",
      "accuracy: 0.74, precision: 0.64, recall: 0.98, f1: 0.77, log loss: 4.35\n",
      "+--------------+-----------------+-------+\n",
      "| target_label | predicted_label | count |\n",
      "+--------------+-----------------+-------+\n",
      "|     busy     |     not_busy    |   50  |\n",
      "|     busy     |       busy      |   59  |\n",
      "|   not_busy   |       busy      |   2   |\n",
      "|   not_busy   |     not_busy    |   89  |\n",
      "+--------------+-----------------+-------+\n",
      "[4 rows x 3 columns]\n",
      "\n",
      "\n",
      "----------------------------------------\n",
      "\n",
      "200 TRAINING LOCATION SUMMARY\n",
      "average accuracy: 0.7440000000000001\n",
      "average f1: 0.7227033759843131\n",
      "\n",
      "----------------------------------------\n",
      "\n",
      "\n",
      "----------------------------------------\n",
      "400 TRAINING LOCATIONS\n",
      "\n",
      "1\n",
      "training locations: ['OxfordCircus', 'DaviesSt']   sample size: 400\n",
      "testing locations: ['VereSt', 'StGiles', 'RegentSt']   sample size: 200\n",
      "accuracy: 0.74, precision: 0.77, recall: 0.71, f1: 0.74, log loss: 1.32\n",
      "+--------------+-----------------+-------+\n",
      "| target_label | predicted_label | count |\n",
      "+--------------+-----------------+-------+\n",
      "|     busy     |       busy      |   77  |\n",
      "|     busy     |     not_busy    |   21  |\n",
      "|   not_busy   |     not_busy    |   72  |\n",
      "|   not_busy   |       busy      |   30  |\n",
      "+--------------+-----------------+-------+\n",
      "[4 rows x 3 columns]\n",
      "\n",
      "\n",
      "2\n",
      "training locations: ['OxfordCircus', 'VereSt']   sample size: 400\n",
      "testing locations: ['RegentSt', 'DaviesSt', 'StGiles']   sample size: 200\n",
      "accuracy: 0.81, precision: 0.97, recall: 0.67, f1: 0.79, log loss: 1.09\n",
      "+--------------+-----------------+-------+\n",
      "| target_label | predicted_label | count |\n",
      "+--------------+-----------------+-------+\n",
      "|     busy     |     not_busy    |   2   |\n",
      "|     busy     |       busy      |   93  |\n",
      "|   not_busy   |       busy      |   35  |\n",
      "|   not_busy   |     not_busy    |   70  |\n",
      "+--------------+-----------------+-------+\n",
      "[4 rows x 3 columns]\n",
      "\n",
      "\n",
      "3\n",
      "training locations: ['OxfordCircus', 'RegentSt']   sample size: 400\n",
      "testing locations: ['VereSt', 'DaviesSt', 'StGiles']   sample size: 200\n",
      "accuracy: 0.78, precision: 0.9, recall: 0.65, f1: 0.75, log loss: 0.8\n",
      "+--------------+-----------------+-------+\n",
      "| target_label | predicted_label | count |\n",
      "+--------------+-----------------+-------+\n",
      "|     busy     |     not_busy    |   8   |\n",
      "|   not_busy   |     not_busy    |   69  |\n",
      "|   not_busy   |       busy      |   37  |\n",
      "|     busy     |       busy      |   86  |\n",
      "+--------------+-----------------+-------+\n",
      "[4 rows x 3 columns]\n",
      "\n",
      "\n",
      "4\n",
      "training locations: ['OxfordCircus', 'StGiles']   sample size: 400\n",
      "testing locations: ['VereSt', 'DaviesSt', 'RegentSt']   sample size: 200\n",
      "accuracy: 0.85, precision: 0.8, recall: 0.94, f1: 0.87, log loss: 0.8\n",
      "+--------------+-----------------+-------+\n",
      "| target_label | predicted_label | count |\n",
      "+--------------+-----------------+-------+\n",
      "|     busy     |     not_busy    |   23  |\n",
      "|     busy     |       busy      |   78  |\n",
      "|   not_busy   |     not_busy    |   93  |\n",
      "|   not_busy   |       busy      |   6   |\n",
      "+--------------+-----------------+-------+\n",
      "[4 rows x 3 columns]\n",
      "\n",
      "\n",
      "5\n",
      "training locations: ['DaviesSt', 'VereSt']   sample size: 400\n",
      "testing locations: ['RegentSt', 'StGiles', 'OxfordCircus']   sample size: 200\n",
      "accuracy: 0.77, precision: 0.9, recall: 0.56, f1: 0.69, log loss: 0.74\n",
      "+--------------+-----------------+-------+\n",
      "| target_label | predicted_label | count |\n",
      "+--------------+-----------------+-------+\n",
      "|     busy     |     not_busy    |   6   |\n",
      "|   not_busy   |     not_busy    |   53  |\n",
      "|   not_busy   |       busy      |   41  |\n",
      "|     busy     |       busy      |  100  |\n",
      "+--------------+-----------------+-------+\n",
      "[4 rows x 3 columns]\n",
      "\n",
      "\n",
      "6\n",
      "training locations: ['DaviesSt', 'RegentSt']   sample size: 400\n",
      "testing locations: ['VereSt', 'StGiles', 'OxfordCircus']   sample size: 200\n",
      "accuracy: 0.74, precision: 0.71, recall: 0.84, f1: 0.77, log loss: 1.21\n",
      "+--------------+-----------------+-------+\n",
      "| target_label | predicted_label | count |\n",
      "+--------------+-----------------+-------+\n",
      "|     busy     |       busy      |   63  |\n",
      "|     busy     |     not_busy    |   35  |\n",
      "|   not_busy   |       busy      |   16  |\n",
      "|   not_busy   |     not_busy    |   86  |\n",
      "+--------------+-----------------+-------+\n",
      "[4 rows x 3 columns]\n",
      "\n",
      "\n",
      "7\n",
      "training locations: ['DaviesSt', 'StGiles']   sample size: 400\n",
      "testing locations: ['VereSt', 'RegentSt', 'OxfordCircus']   sample size: 200\n",
      "accuracy: 0.71, precision: 0.67, recall: 0.86, f1: 0.75, log loss: 2.49\n",
      "+--------------+-----------------+-------+\n",
      "| target_label | predicted_label | count |\n",
      "+--------------+-----------------+-------+\n",
      "|   not_busy   |     not_busy    |   89  |\n",
      "|   not_busy   |       busy      |   14  |\n",
      "|     busy     |     not_busy    |   44  |\n",
      "|     busy     |       busy      |   53  |\n",
      "+--------------+-----------------+-------+\n",
      "[4 rows x 3 columns]\n",
      "\n",
      "\n",
      "8\n",
      "training locations: ['VereSt', 'RegentSt']   sample size: 400\n",
      "testing locations: ['DaviesSt', 'StGiles', 'OxfordCircus']   sample size: 200\n",
      "accuracy: 0.73, precision: 0.98, recall: 0.45, f1: 0.61, log loss: 0.72\n",
      "+--------------+-----------------+-------+\n",
      "| target_label | predicted_label | count |\n",
      "+--------------+-----------------+-------+\n",
      "|     busy     |     not_busy    |   1   |\n",
      "|     busy     |       busy      |  105  |\n",
      "|   not_busy   |       busy      |   52  |\n",
      "|   not_busy   |     not_busy    |   42  |\n",
      "+--------------+-----------------+-------+\n",
      "[4 rows x 3 columns]\n",
      "\n",
      "\n",
      "9\n",
      "training locations: ['VereSt', 'StGiles']   sample size: 400\n",
      "testing locations: ['RegentSt', 'DaviesSt', 'OxfordCircus']   sample size: 200\n",
      "accuracy: 0.9, precision: 0.97, recall: 0.84, f1: 0.9, log loss: 0.32\n",
      "+--------------+-----------------+-------+\n",
      "| target_label | predicted_label | count |\n",
      "+--------------+-----------------+-------+\n",
      "|     busy     |       busy      |   86  |\n",
      "|     busy     |     not_busy    |   3   |\n",
      "|   not_busy   |     not_busy    |   93  |\n",
      "|   not_busy   |       busy      |   18  |\n",
      "+--------------+-----------------+-------+\n",
      "[4 rows x 3 columns]\n",
      "\n",
      "\n",
      "10\n",
      "training locations: ['RegentSt', 'StGiles']   sample size: 400\n",
      "testing locations: ['VereSt', 'DaviesSt', 'OxfordCircus']   sample size: 200\n",
      "accuracy: 0.8, precision: 0.73, recall: 0.98, f1: 0.84, log loss: 1.23\n",
      "+--------------+-----------------+-------+\n",
      "| target_label | predicted_label | count |\n",
      "+--------------+-----------------+-------+\n",
      "|     busy     |       busy      |   53  |\n",
      "|     busy     |     not_busy    |   39  |\n",
      "|   not_busy   |     not_busy    |  106  |\n",
      "|   not_busy   |       busy      |   2   |\n",
      "+--------------+-----------------+-------+\n",
      "[4 rows x 3 columns]\n",
      "\n",
      "\n",
      "----------------------------------------\n",
      "\n",
      "400 TRAINING LOCATION SUMMARY\n",
      "average accuracy: 0.7835000000000001\n",
      "average f1: 0.771661889904756\n",
      "\n",
      "----------------------------------------\n",
      "\n",
      "\n",
      "----------------------------------------\n",
      "600 TRAINING LOCATIONS\n",
      "\n",
      "1\n",
      "training locations: ['OxfordCircus', 'DaviesSt', 'VereSt']   sample size: 600\n",
      "testing locations: ['RegentSt', 'StGiles']   sample size: 200\n",
      "accuracy: 0.83, precision: 0.97, recall: 0.68, f1: 0.8, log loss: 0.45\n",
      "+--------------+-----------------+-------+\n",
      "| target_label | predicted_label | count |\n",
      "+--------------+-----------------+-------+\n",
      "|     busy     |     not_busy    |   2   |\n",
      "|   not_busy   |     not_busy    |   67  |\n",
      "|   not_busy   |       busy      |   31  |\n",
      "|     busy     |       busy      |  100  |\n",
      "+--------------+-----------------+-------+\n",
      "[4 rows x 3 columns]\n",
      "\n",
      "\n",
      "2\n",
      "training locations: ['OxfordCircus', 'DaviesSt', 'RegentSt']   sample size: 600\n",
      "testing locations: ['VereSt', 'StGiles']   sample size: 200\n",
      "accuracy: 0.74, precision: 0.7, recall: 0.76, f1: 0.73, log loss: 0.94\n",
      "+--------------+-----------------+-------+\n",
      "| target_label | predicted_label | count |\n",
      "+--------------+-----------------+-------+\n",
      "|     busy     |     not_busy    |   29  |\n",
      "|   not_busy   |     not_busy    |   69  |\n",
      "|   not_busy   |       busy      |   22  |\n",
      "|     busy     |       busy      |   80  |\n",
      "+--------------+-----------------+-------+\n",
      "[4 rows x 3 columns]\n",
      "\n",
      "\n",
      "3\n",
      "training locations: ['OxfordCircus', 'DaviesSt', 'StGiles']   sample size: 600\n",
      "testing locations: ['VereSt', 'RegentSt']   sample size: 200\n",
      "accuracy: 0.75, precision: 0.7, recall: 0.91, f1: 0.79, log loss: 1.48\n",
      "+--------------+-----------------+-------+\n",
      "| target_label | predicted_label | count |\n",
      "+--------------+-----------------+-------+\n",
      "|     busy     |     not_busy    |   41  |\n",
      "|     busy     |       busy      |   56  |\n",
      "|   not_busy   |     not_busy    |   94  |\n",
      "|   not_busy   |       busy      |   9   |\n",
      "+--------------+-----------------+-------+\n",
      "[4 rows x 3 columns]\n",
      "\n",
      "\n",
      "4\n",
      "training locations: ['OxfordCircus', 'VereSt', 'RegentSt']   sample size: 600\n",
      "testing locations: ['DaviesSt', 'StGiles']   sample size: 200\n",
      "accuracy: 0.79, precision: 1.0, recall: 0.61, f1: 0.76, log loss: 0.69\n",
      "+--------------+-----------------+-------+\n",
      "| target_label | predicted_label | count |\n",
      "+--------------+-----------------+-------+\n",
      "|   not_busy   |     not_busy    |   65  |\n",
      "|   not_busy   |       busy      |   42  |\n",
      "|     busy     |       busy      |   93  |\n",
      "+--------------+-----------------+-------+\n",
      "[3 rows x 3 columns]\n",
      "\n",
      "\n",
      "5\n",
      "training locations: ['OxfordCircus', 'VereSt', 'StGiles']   sample size: 600\n",
      "testing locations: ['RegentSt', 'DaviesSt']   sample size: 200\n",
      "accuracy: 0.96, precision: 0.96, recall: 0.96, f1: 0.96, log loss: 0.24\n",
      "+--------------+-----------------+-------+\n",
      "| target_label | predicted_label | count |\n",
      "+--------------+-----------------+-------+\n",
      "|   not_busy   |       busy      |   4   |\n",
      "|   not_busy   |     not_busy    |   90  |\n",
      "|     busy     |       busy      |  102  |\n",
      "|     busy     |     not_busy    |   4   |\n",
      "+--------------+-----------------+-------+\n",
      "[4 rows x 3 columns]\n",
      "\n",
      "\n",
      "6\n",
      "training locations: ['OxfordCircus', 'RegentSt', 'StGiles']   sample size: 600\n",
      "testing locations: ['VereSt', 'DaviesSt']   sample size: 200\n",
      "accuracy: 0.79, precision: 0.72, recall: 0.93, f1: 0.81, log loss: 0.78\n",
      "+--------------+-----------------+-------+\n",
      "| target_label | predicted_label | count |\n",
      "+--------------+-----------------+-------+\n",
      "|     busy     |       busy      |   68  |\n",
      "|   not_busy   |       busy      |   7   |\n",
      "|   not_busy   |     not_busy    |   90  |\n",
      "|     busy     |     not_busy    |   35  |\n",
      "+--------------+-----------------+-------+\n",
      "[4 rows x 3 columns]\n",
      "\n",
      "\n",
      "7\n",
      "training locations: ['DaviesSt', 'VereSt', 'RegentSt']   sample size: 600\n",
      "testing locations: ['StGiles', 'OxfordCircus']   sample size: 200\n",
      "accuracy: 0.72, precision: 0.79, recall: 0.59, f1: 0.67, log loss: 0.83\n",
      "+--------------+-----------------+-------+\n",
      "| target_label | predicted_label | count |\n",
      "+--------------+-----------------+-------+\n",
      "|     busy     |     not_busy    |   15  |\n",
      "|     busy     |       busy      |   88  |\n",
      "|   not_busy   |       busy      |   40  |\n",
      "|   not_busy   |     not_busy    |   57  |\n",
      "+--------------+-----------------+-------+\n",
      "[4 rows x 3 columns]\n",
      "\n",
      "\n",
      "8\n",
      "training locations: ['DaviesSt', 'VereSt', 'StGiles']   sample size: 600\n",
      "testing locations: ['RegentSt', 'OxfordCircus']   sample size: 200\n",
      "accuracy: 0.85, precision: 0.85, recall: 0.87, f1: 0.86, log loss: 0.5\n",
      "+--------------+-----------------+-------+\n",
      "| target_label | predicted_label | count |\n",
      "+--------------+-----------------+-------+\n",
      "|     busy     |     not_busy    |   16  |\n",
      "|     busy     |       busy      |   77  |\n",
      "|   not_busy   |       busy      |   14  |\n",
      "|   not_busy   |     not_busy    |   93  |\n",
      "+--------------+-----------------+-------+\n",
      "[4 rows x 3 columns]\n",
      "\n",
      "\n",
      "9\n",
      "training locations: ['DaviesSt', 'RegentSt', 'StGiles']   sample size: 600\n",
      "testing locations: ['VereSt', 'OxfordCircus']   sample size: 200\n",
      "accuracy: 0.69, precision: 0.62, recall: 0.99, f1: 0.76, log loss: 1.87\n",
      "+--------------+-----------------+-------+\n",
      "| target_label | predicted_label | count |\n",
      "+--------------+-----------------+-------+\n",
      "|     busy     |     not_busy    |   60  |\n",
      "|     busy     |       busy      |   42  |\n",
      "|   not_busy   |       busy      |   1   |\n",
      "|   not_busy   |     not_busy    |   97  |\n",
      "+--------------+-----------------+-------+\n",
      "[4 rows x 3 columns]\n",
      "\n",
      "\n",
      "10\n",
      "training locations: ['VereSt', 'RegentSt', 'StGiles']   sample size: 600\n",
      "testing locations: ['DaviesSt', 'OxfordCircus']   sample size: 200\n",
      "accuracy: 0.91, precision: 0.9, recall: 0.92, f1: 0.91, log loss: 0.23\n",
      "+--------------+-----------------+-------+\n",
      "| target_label | predicted_label | count |\n",
      "+--------------+-----------------+-------+\n",
      "|     busy     |     not_busy    |   11  |\n",
      "|     busy     |       busy      |   84  |\n",
      "|   not_busy   |       busy      |   8   |\n",
      "|   not_busy   |     not_busy    |   97  |\n",
      "+--------------+-----------------+-------+\n",
      "[4 rows x 3 columns]\n",
      "\n",
      "\n",
      "----------------------------------------\n",
      "\n",
      "600 TRAINING LOCATION SUMMARY\n",
      "average accuracy: 0.8045\n",
      "average f1: 0.8053791238856025\n",
      "\n",
      "----------------------------------------\n",
      "\n",
      "\n",
      "----------------------------------------\n",
      "800 TRAINING LOCATIONS\n",
      "\n",
      "1\n",
      "training locations: ['OxfordCircus', 'DaviesSt', 'VereSt', 'RegentSt']   sample size: 800\n",
      "testing locations: ['StGiles']   sample size: 200\n",
      "accuracy: 0.78, precision: 1.0, recall: 0.56, f1: 0.72, log loss: 0.64\n",
      "+--------------+-----------------+-------+\n",
      "| target_label | predicted_label | count |\n",
      "+--------------+-----------------+-------+\n",
      "|     busy     |       busy      |  100  |\n",
      "|   not_busy   |     not_busy    |   56  |\n",
      "|   not_busy   |       busy      |   44  |\n",
      "+--------------+-----------------+-------+\n",
      "[3 rows x 3 columns]\n",
      "\n",
      "\n",
      "2\n",
      "training locations: ['OxfordCircus', 'DaviesSt', 'VereSt', 'StGiles']   sample size: 800\n",
      "testing locations: ['RegentSt']   sample size: 200\n",
      "accuracy: 0.93, precision: 0.96, recall: 0.89, f1: 0.92, log loss: 0.32\n",
      "+--------------+-----------------+-------+\n",
      "| target_label | predicted_label | count |\n",
      "+--------------+-----------------+-------+\n",
      "|     busy     |     not_busy    |   4   |\n",
      "|     busy     |       busy      |   96  |\n",
      "|   not_busy   |       busy      |   11  |\n",
      "|   not_busy   |     not_busy    |   89  |\n",
      "+--------------+-----------------+-------+\n",
      "[4 rows x 3 columns]\n",
      "\n",
      "\n",
      "3\n",
      "training locations: ['OxfordCircus', 'DaviesSt', 'RegentSt', 'StGiles']   sample size: 800\n",
      "testing locations: ['VereSt']   sample size: 200\n",
      "accuracy: 0.63, precision: 0.58, recall: 0.95, f1: 0.72, log loss: 1.68\n",
      "+--------------+-----------------+-------+\n",
      "| target_label | predicted_label | count |\n",
      "+--------------+-----------------+-------+\n",
      "|     busy     |       busy      |   31  |\n",
      "|   not_busy   |       busy      |   5   |\n",
      "|   not_busy   |     not_busy    |   95  |\n",
      "|     busy     |     not_busy    |   69  |\n",
      "+--------------+-----------------+-------+\n",
      "[4 rows x 3 columns]\n",
      "\n",
      "\n",
      "4\n",
      "training locations: ['OxfordCircus', 'VereSt', 'RegentSt', 'StGiles']   sample size: 800\n",
      "testing locations: ['DaviesSt']   sample size: 200\n",
      "accuracy: 0.96, precision: 0.98, recall: 0.94, f1: 0.96, log loss: 0.09\n",
      "+--------------+-----------------+-------+\n",
      "| target_label | predicted_label | count |\n",
      "+--------------+-----------------+-------+\n",
      "|     busy     |       busy      |   98  |\n",
      "|     busy     |     not_busy    |   2   |\n",
      "|   not_busy   |     not_busy    |   94  |\n",
      "|   not_busy   |       busy      |   6   |\n",
      "+--------------+-----------------+-------+\n",
      "[4 rows x 3 columns]\n",
      "\n",
      "\n",
      "5\n",
      "training locations: ['DaviesSt', 'VereSt', 'RegentSt', 'StGiles']   sample size: 800\n",
      "testing locations: ['OxfordCircus']   sample size: 200\n",
      "accuracy: 0.86, precision: 0.86, recall: 0.87, f1: 0.87, log loss: 0.45\n",
      "+--------------+-----------------+-------+\n",
      "| target_label | predicted_label | count |\n",
      "+--------------+-----------------+-------+\n",
      "|     busy     |     not_busy    |   14  |\n",
      "|   not_busy   |     not_busy    |   87  |\n",
      "|   not_busy   |       busy      |   13  |\n",
      "|     busy     |       busy      |   86  |\n",
      "+--------------+-----------------+-------+\n",
      "[4 rows x 3 columns]\n",
      "\n",
      "\n",
      "----------------------------------------\n",
      "\n",
      "800 TRAINING LOCATION SUMMARY\n",
      "average accuracy: 0.8320000000000001\n",
      "average f1: 0.8369561591304467\n",
      "\n",
      "----------------------------------------\n",
      "\n",
      "\n"
     ]
    },
    {
     "data": {
      "text/plain": "<Figure size 432x288 with 1 Axes>",
      "image/png": "[encoded data removed]"
     },
     "metadata": {},
     "output_type": "display_data"
    },
    {
     "data": {
      "text/plain": "<Figure size 432x288 with 1 Axes>",
      "image/png": "[encoded data removed]"
     },
     "metadata": {},
     "output_type": "display_data"
    },
    {
     "data": {
      "text/plain": "<Figure size 432x288 with 1 Axes>",
      "image/png": "[encoded data removed]"
     },
     "metadata": {},
     "output_type": "display_data"
    },
    {
     "data": {
      "text/plain": "<Figure size 432x288 with 1 Axes>",
      "image/png": "[encoded data removed]"
     },
     "metadata": {},
     "output_type": "display_data"
    },
    {
     "data": {
      "text/plain": "<Figure size 432x288 with 1 Axes>",
      "image/png": "[encoded data removed]"
     },
     "metadata": {},
     "output_type": "display_data"
    },
    {
     "data": {
      "text/plain": "<Figure size 432x288 with 1 Axes>",
      "image/png": "[encoded data removed]"
     },
     "metadata": {},
     "output_type": "display_data"
    },
    {
     "data": {
      "text/plain": "<Figure size 432x288 with 1 Axes>",
      "image/png": "[encoded data removed]"
     },
     "metadata": {},
     "output_type": "display_data"
    },
    {
     "data": {
      "text/plain": "<Figure size 432x288 with 1 Axes>",
      "image/png": "[encoded data removed]"
     },
     "metadata": {},
     "output_type": "display_data"
    }
   ],
   "source": [
    "for cvloc_metrics in cvlocs_metrics:\n",
    "    print(\"----------------------------------------\")\n",
    "    print(f\"{cvloc_metrics[0].train_size} TRAINING LOCATIONS\\n\")\n",
    "    accuracies = [metrics.accuracy for metrics in cvloc_metrics]\n",
    "    f1s = [metrics.f1 for metrics in cvloc_metrics]\n",
    "\n",
    "    print_metrics(cvloc_metrics)\n",
    "    print(f\"{cvloc_metrics[0].train_size} TRAINING LOCATION SUMMARY\")\n",
    "    print(f\"average accuracy: {sum(accuracies) / len(cvloc_metrics)}\")\n",
    "    print(f\"average f1: {sum(f1s) / len(cvloc_metrics)}\")\n",
    "    print(\"\\n----------------------------------------\\n\\n\")\n",
    "\n",
    "    plot_line(range(1, len(accuracies) + 1), accuracies, \"iteration\", \"accuracy\", ymin=0.4, title=f\"{cvloc_metrics[0].train_size} Location CV \"\n",
    "                                                                                                  \"Accuracies\")\n",
    "    plot_line(range(1, len(accuracies) + 1), f1s, \"iteration\", \"f1 score\", ymin=0.4, title=f\"{cvloc_metrics[0].train_size} Location CV F1 \"\n",
    "                                                                                           \"Scores\")\n",
    "    # for cv in cvl:\n",
    "    #     plot_roc(cv.metrics.roc_curve, title=f\"ROC Location-based CV\\nTraining Locations {cv.metrics.train_locs}\")"
   ],
   "metadata": {
    "collapsed": false,
    "pycharm": {
     "name": "#%%\n"
    }
   }
  },
  {
   "cell_type": "code",
   "execution_count": 20,
   "outputs": [],
   "source": [
    "avg_accs = []\n",
    "avg_f1s = []\n",
    "for cvloc_metrics in cvlocs_metrics:\n",
    "    avg_acc = sum([metrics.accuracy for metrics in cvloc_metrics]) / len(cvloc_metrics)\n",
    "    avg_f1 = sum([metrics.f1 for metrics in cvloc_metrics]) / len(cvloc_metrics)\n",
    "    avg_accs.append(avg_acc)\n",
    "    avg_f1s.append(avg_f1)"
   ],
   "metadata": {
    "collapsed": false,
    "pycharm": {
     "name": "#%%\n"
    }
   }
  },
  {
   "cell_type": "code",
   "execution_count": 21,
   "outputs": [
    {
     "data": {
      "text/plain": "<Figure size 432x288 with 1 Axes>",
      "image/png": "[encoded data removed]"
     },
     "metadata": {},
     "output_type": "display_data"
    },
    {
     "data": {
      "text/plain": "<Figure size 432x288 with 1 Axes>",
      "image/png": "[encoded data removed]"
     },
     "metadata": {},
     "output_type": "display_data"
    }
   ],
   "source": [
    "plot_line(range(1, 5), avg_accs, \"no. of training locations\", \"average accuracy\", ymin=0.6, title=\"Location-based CV \" \\\n",
    "                                                                                                 \"Avg \"\n",
    "                                                                                        \"Accuracies\")\n",
    "plot_line(range(1, 5), avg_f1s, \"no. of training locations\", \"average f1 score\", ymin=0.6, title=\"Location-based CV \" \\\n",
    "                                                                                                \"Avg F1 \"\n",
    "                                                                                       \"Scores\")"
   ],
   "metadata": {
    "collapsed": false,
    "pycharm": {
     "name": "#%%\n"
    }
   }
  },
  {
   "cell_type": "markdown",
   "source": [
    "#### 4-Location Cross Validation Varying Training Set Size"
   ],
   "metadata": {
    "collapsed": false
   }
  },
  {
   "cell_type": "code",
   "execution_count": 22,
   "outputs": [],
   "source": [
    "# n_training_locations = 4\n",
    "# training_sizes = range(100, 900, 100)\n",
    "# testing_size = 200\n",
    "#\n",
    "# cvls = []\n",
    "# for training_size in training_sizes:\n",
    "#     cvl = crossval_location(preprocessed_data, locations, n_training_locations, training_size, testing_size, BASE_MODEL)\n",
    "#     cvls.append(cvl)"
   ],
   "metadata": {
    "collapsed": false,
    "pycharm": {
     "name": "#%%\n"
    }
   }
  },
  {
   "cell_type": "code",
   "execution_count": 23,
   "outputs": [],
   "source": [
    "# for cvl in cvls:\n",
    "#     print_metrics([model.metrics for model in cvl])"
   ],
   "metadata": {
    "collapsed": false,
    "pycharm": {
     "name": "#%%\n"
    }
   }
  },
  {
   "cell_type": "code",
   "execution_count": 24,
   "outputs": [],
   "source": [
    "# avg_accs = []\n",
    "# avg_f1s = []\n",
    "# for cvl in cvls:\n",
    "#     avg_acc = sum(list(map(lambda model: model.metrics.accuracy, cvl))) / len(cvl)\n",
    "#     avg_f1 = sum(list(map(lambda model: model.metrics.f1, cvl))) / len(cvl)\n",
    "#     avg_accs.append(avg_acc)\n",
    "#     avg_f1s.append(avg_f1)"
   ],
   "metadata": {
    "collapsed": false,
    "pycharm": {
     "name": "#%%\n"
    }
   }
  },
  {
   "cell_type": "code",
   "execution_count": 25,
   "outputs": [],
   "source": [
    "# print(\"4 training locations, 200 testing images\")\n",
    "# plot_line(training_sizes, avg_accs, \"no. of training images\", \"average accuracy\", ymin=0.7, title=\"4-location CV Avg \"\n",
    "#                                                                                         \"Accuracies\")\n",
    "# plot_line(training_sizes, avg_f1s, \"no. of training images\", \"average f1 score\", ymin=0.7, title=\"4-location CV Avg \"\n",
    "#                                                                                                  \"F1 Scores\")"
   ],
   "metadata": {
    "collapsed": false,
    "pycharm": {
     "name": "#%%\n"
    }
   }
  },
  {
   "cell_type": "code",
   "execution_count": 26,
   "outputs": [],
   "source": [
    "# best_models = []\n",
    "# for cvl in cv_locs:\n",
    "#     best_model = max(cvl, key=attrgetter(\"metrics.f1\"))\n",
    "#     best_models.append(best_model)\n",
    "#\n",
    "# print(\"BEST MODELS PER CV\")\n",
    "# for model in best_models:\n",
    "#     model.metrics.display()\n",
    "# print(\"----------------------------------------\\n\\n\")\n",
    "# print(\"BEST MODEL\")\n",
    "# best_model = max(best_models, key=attrgetter(\"metrics.f1\"))\n",
    "# best_model.metrics.display()"
   ],
   "metadata": {
    "collapsed": false,
    "pycharm": {
     "name": "#%%\n"
    }
   }
  },
  {
   "cell_type": "code",
   "execution_count": 27,
   "outputs": [],
   "source": [
    "if final:\n",
    "    # shuffled = preprocessed_data.copy().shuffle()\n",
    "    # test_data = shuffled[:len(shuffled) / 5]\n",
    "    # train_data = shuffled.filter_by(filter(lambda path: path not in test_data[\"path\"], shuffled[\"path\"]), \"path\")\n",
    "\n",
    "    final_model = tc.image_classifier.create(preprocessed_data.copy(),\n",
    "                                                    target=\"label\",\n",
    "                                                    model=BASE_MODEL,\n",
    "                                                    seed=42,\n",
    "                                                    verbose=False)\n",
    "    # evaluation = final_model.evaluate(test_data)\n",
    "    # metrics = Metrics(train_size=len(train_data), test_size=len(test_data), metrics=evaluation)\n",
    "    # metrics.display()\n",
    "\n",
    "    final_model.export_coreml(f\"./mlmodels/{BASE_MODEL}.mlmodel\")"
   ],
   "metadata": {
    "collapsed": false,
    "pycharm": {
     "name": "#%%\n"
    }
   }
  },
  {
   "cell_type": "markdown",
   "source": [
    "---"
   ],
   "metadata": {
    "collapsed": false,
    "pycharm": {
     "name": "#%% md\n"
    }
   }
  },
  {
   "cell_type": "code",
   "execution_count": 28,
   "outputs": [
    {
     "name": "stdout",
     "output_type": "stream",
     "text": [
      "NOTEBOOK END TIME: 12:27:26\n",
      "TOTAL RUNTIME: 0:00:09.349487\n"
     ]
    }
   ],
   "source": [
    "end_time = datetime.now()\n",
    "print(f\"NOTEBOOK END TIME: {end_time.strftime('%H:%M:%S')}\")\n",
    "print(f\"TOTAL RUNTIME: {end_time - start_time}\")"
   ],
   "metadata": {
    "collapsed": false,
    "pycharm": {
     "name": "#%%\n"
    }
   }
  }
 ],
 "metadata": {
  "kernelspec": {
   "name": "pycharm-d70e734d",
   "language": "python",
   "display_name": "PyCharm (TuriCreate)"
  },
  "language_info": {
   "codemirror_mode": {
    "name": "ipython",
    "version": 2
   },
   "file_extension": ".py",
   "mimetype": "text/x-python",
   "name": "python",
   "nbconvert_exporter": "python",
   "pygments_lexer": "ipython2",
   "version": "2.7.6"
  }
 },
 "nbformat": 4,
 "nbformat_minor": 0
}